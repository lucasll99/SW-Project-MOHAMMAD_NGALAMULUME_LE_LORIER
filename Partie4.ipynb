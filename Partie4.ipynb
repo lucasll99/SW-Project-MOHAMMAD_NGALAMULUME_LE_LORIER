{
 "cells": [
  {
   "cell_type": "code",
   "execution_count": 16,
   "id": "406db969",
   "metadata": {},
   "outputs": [],
   "source": [
    "from rdflib import Graph, Namespace, RDF, RDFS, OWL, URIRef"
   ]
  },
  {
   "cell_type": "code",
   "execution_count": 17,
   "id": "cba9e3cf",
   "metadata": {},
   "outputs": [
    {
     "data": {
      "text/plain": [
       "'6.2.0'"
      ]
     },
     "execution_count": 17,
     "metadata": {},
     "output_type": "execute_result"
    }
   ],
   "source": [
    "#!pip install rdflib==6.2.0.\n",
    "import rdflib\n",
    "rdflib.__version__"
   ]
  },
  {
   "cell_type": "markdown",
   "id": "9937b1c7",
   "metadata": {},
   "source": [
    "### On charge le modèle.owl enregistré au format rdf-xml"
   ]
  },
  {
   "cell_type": "code",
   "execution_count": 18,
   "id": "686a946c",
   "metadata": {},
   "outputs": [
    {
     "data": {
      "text/plain": [
       "<Graph identifier=N6b71f8bf20054e7d81da1824f21db13f (<class 'rdflib.graph.Graph'>)>"
      ]
     },
     "execution_count": 18,
     "metadata": {},
     "output_type": "execute_result"
    }
   ],
   "source": [
    "\n",
    "g = Graph()\n",
    "g.parse(\"movies2.owl\")"
   ]
  },
  {
   "cell_type": "markdown",
   "id": "06afc513",
   "metadata": {},
   "source": [
    "### 1. Loads the ontology and displays all the Persons (without using queries, without inference)."
   ]
  },
  {
   "cell_type": "code",
   "execution_count": 19,
   "id": "91dd5d13",
   "metadata": {},
   "outputs": [
    {
     "name": "stdout",
     "output_type": "stream",
     "text": [
      "R.Tim\n",
      "W.Lana\n",
      "W.Elijah\n",
      "D.Lana\n",
      "G.Winston\n",
      "R.Zemeckis\n",
      "P.Mario\n",
      "N.Christopher\n",
      "J.Peter\n",
      "B.Marlon\n",
      "D.Jonathan\n",
      "F.Kelly\n",
      "F.Dounia\n",
      "C.FrancisF\n",
      "J.JPierre\n",
      "T.Quentin\n",
      "Q.Maria\n",
      "W.Lili\n",
      "D.Lucia\n",
      "P.Al\n",
      "Q.Dounia\n",
      "T.Uma\n",
      "F.Morgan\n",
      "K.Abdellatif\n",
      "B.Emily\n",
      "T.John\n",
      "A.Saba\n",
      "A.Wes\n",
      "J.Samuel_L.\n",
      "D.Frank\n",
      "M.Braulio\n",
      "D.Stella\n",
      "X.Ornella\n"
     ]
    }
   ],
   "source": [
    "# On récupère les personnes\n",
    "person_uri = None\n",
    "for s, p, o in g:\n",
    "    if(p == URIRef(\"http://www.w3.org/1999/02/22-rdf-syntax-ns#type\") and o == URIRef(\"http://www.semanticweb.org/mohammadaima/ontologies/2023/2/untitled-ontology-11#person\")):\n",
    "        print(s.split('#')[-1])"
   ]
  },
  {
   "cell_type": "code",
   "execution_count": 20,
   "id": "97d14ae5",
   "metadata": {},
   "outputs": [
    {
     "name": "stdout",
     "output_type": "stream",
     "text": [
      "http://www.w3.org/1999/02/22-rdf-syntax-ns#type\n"
     ]
    }
   ],
   "source": [
    "print(RDF.type)"
   ]
  },
  {
   "cell_type": "markdown",
   "id": "08ced410",
   "metadata": {},
   "source": [
    "### 2.Loads the ontology and displays all the Persons (using a query, without inference). Create the used query in text file under the data folder."
   ]
  },
  {
   "cell_type": "code",
   "execution_count": 21,
   "id": "783713d4",
   "metadata": {},
   "outputs": [
    {
     "name": "stdout",
     "output_type": "stream",
     "text": [
      "(rdflib.term.URIRef('http://www.semanticweb.org/mohammadaima/ontologies/2023/2/untitled-ontology-11#D.Frank'), rdflib.term.URIRef('http://www.w3.org/1999/02/22-rdf-syntax-ns#type'), rdflib.term.URIRef('http://www.semanticweb.org/mohammadaima/ontologies/2023/2/untitled-ontology-11#ActorDirector'))\n",
      "(rdflib.term.URIRef('http://www.semanticweb.org/mohammadaima/ontologies/2023/2/untitled-ontology-11#T.Uma'), rdflib.term.URIRef('http://www.w3.org/1999/02/22-rdf-syntax-ns#type'), rdflib.term.URIRef('http://www.semanticweb.org/mohammadaima/ontologies/2023/2/untitled-ontology-11#ActorDirector'))\n"
     ]
    }
   ],
   "source": [
    "# Define the namespaces\n",
    "ns = {\n",
    "    \"owl\": Namespace(\"http://www.w3.org/2002/07/owl#\"),\n",
    "    \"rdf\": Namespace(\"http://www.w3.org/1999/02/22-rdf-syntax-ns#\"),\n",
    "    \"rdfs\": Namespace(\"http://www.w3.org/2000/01/rdf-schema#\"),\n",
    "    \"xsd\" : Namespace(\"http://www.w3.org/2001/XMLSchema#\"),\n",
    "    \"this\": Namespace(\"http://www.semanticweb.org/mohammadaima/ontologies/2023/2/untitled-ontology-11#\")\n",
    "}\n",
    "\n",
    "# On recupère la query dans le fichier la contenant 'query.rq'\n",
    "with open(\"query.rq\", \"r\") as f:\n",
    "    query = f.read()\n",
    "\n",
    "# on execute la query et on affiche les résultats \n",
    "for result in results:\n",
    "    print(result)"
   ]
  },
  {
   "cell_type": "markdown",
   "id": "d9bddf91",
   "metadata": {},
   "source": [
    "### 3. Loads the ontology and displays all the Actors (without using queries, using inference)."
   ]
  },
  {
   "cell_type": "code",
   "execution_count": 22,
   "id": "665fc0a6",
   "metadata": {},
   "outputs": [
    {
     "name": "stdout",
     "output_type": "stream",
     "text": [
      "Q.Maria\n",
      "T.John\n",
      "T.Uma\n",
      "D.Stella\n",
      "R.Tim\n",
      "F.Morgan\n",
      "B.Marlon\n",
      "Q.Dounia\n",
      "D.Frank\n",
      "F.Dounia\n",
      "D.Lana\n",
      "J.Samuel_L.\n",
      "W.Elijah\n",
      "P.Al\n"
     ]
    }
   ],
   "source": [
    "# Get the URI of the \"Person\" class\n",
    "actors = set()\n",
    "# on récupère tous les acteurs avec une méthode similaire de la 1. \n",
    "for s, p, o in g:\n",
    "    if(p == URIRef(\"http://www.semanticweb.org/mohammadaima/ontologies/2023/2/untitled-ontology-11#isActorOf\")):   \n",
    "    #if(p == URIRef(\"http://www.w3.org/1999/02/22-rdf-syntax-ns#isActorOf\") and o == URIRef(\"http://www.semanticweb.org/mohammadaima/ontologies/2023/2/untitled-ontology-11#Actor\")):\n",
    "        actors.add(s)\n",
    "# affichage des résultats\n",
    "for actor in actors: \n",
    "    print(actor.split('#')[-1])"
   ]
  },
  {
   "cell_type": "markdown",
   "id": "5a91ff3d",
   "metadata": {},
   "source": [
    "### 4. Develops a program that :\n",
    "- Reads a name of a movie\n",
    "- If it doesn’t exist displays an error message\n",
    "- Else, display its year, country, genres and actors\n",
    "- Display their program where and when"
   ]
  },
  {
   "cell_type": "code",
   "execution_count": 23,
   "id": "604b032d",
   "metadata": {
    "scrolled": true
   },
   "outputs": [
    {
     "name": "stdout",
     "output_type": "stream",
     "text": [
      "Enter a movie name: Inception\n",
      "Movie: Inception\n",
      "Year: 2010\n",
      "Country: USA\n",
      "Genres: action\n",
      "Actors: Q.Dounia, R.Tim\n",
      "Schedule:\n",
      "released date: 1938-02-09T10:30:13 end released date: 2003-02-09T10:30:13\n",
      "cinéma : TCL - localisation: Los Angeles\n",
      "cinéma : UGC_Paris - localisation: Paris\n"
     ]
    }
   ],
   "source": [
    "from rdflib import Graph, URIRef\n",
    "from datetime import datetime, timedelta\n",
    "\n",
    "ns = {\n",
    "    \"rdf\": URIRef(\"http://www.w3.org/1999/02/22-rdf-syntax-ns#\"),\n",
    "    \"owl\": URIRef(\"http://www.w3.org/2002/07/owl#\"),\n",
    "    \"xsd\": URIRef(\"http://www.w3.org/2001/XMLSchema#\"),\n",
    "    \"rdfs\": URIRef(\"http://www.w3.org/2000/01/rdf-schema#\"),\n",
    "    \"movie\": URIRef(\"http://example.com/movie#\")\n",
    "}\n",
    "\n",
    "movie_name = input(\"Enter a movie name: \")\n",
    "# on recupère d'abord l'uri du film \n",
    "movie_uri = None\n",
    "for s, p, o in g:\n",
    "    if(s == URIRef(\"http://www.semanticweb.org/mohammadaima/ontologies/2023/2/untitled-ontology-11#\"+ str(movie_name)) and p == URIRef(\"http://www.w3.org/1999/02/22-rdf-syntax-ns#type\") and o == URIRef(\"http://www.semanticweb.org/mohammadaima/ontologies/2023/2/untitled-ontology-11#movies\")):\n",
    "        movie_uri = s\n",
    "        break\n",
    "# si film n'existe pas, renvoie message d'erreur\n",
    "if movie_uri is None:\n",
    "    print(f\"Error: Movie {movie_name} not found\")\n",
    "else:#si existe: \n",
    "    # reécupère l'année\n",
    "    year = None\n",
    "    for s, p, o in g:\n",
    "        if(p == URIRef(\"http://www.semanticweb.org/mohammadaima/ontologies/2023/2/untitled-ontology-11#movie_year\") and s == URIRef(\"http://www.semanticweb.org/mohammadaima/ontologies/2023/2/untitled-ontology-11#\" + str(movie_name))):\n",
    "            year = str(o)\n",
    "            break\n",
    "    # récupère le pays\n",
    "    country = None\n",
    "    for s, p, o in g:\n",
    "        if(p == URIRef(\"http://www.semanticweb.org/mohammadaima/ontologies/2023/2/untitled-ontology-11#country\") and s == URIRef(\"http://www.semanticweb.org/mohammadaima/ontologies/2023/2/untitled-ontology-11#\" + str(movie_name))):\n",
    "            country = str(o)\n",
    "            break\n",
    "    #récupère le/les genres\n",
    "    genres = []\n",
    "    for s, p, o in g:\n",
    "        if(s == URIRef(\"http://www.semanticweb.org/mohammadaima/ontologies/2023/2/untitled-ontology-11#\"+ str(movie_name)) and p == URIRef(\"http://www.w3.org/1999/02/22-rdf-syntax-ns#type\") and o != URIRef(\"http://www.semanticweb.org/mohammadaima/ontologies/2023/2/untitled-ontology-11#movies\") and o != URIRef(\"http://www.w3.org/2002/07/owl#NamedIndividual\")):\n",
    "            genres.append(str(o).split('#')[-1])\n",
    "    # récupères les acteurs\n",
    "    actors = []\n",
    "    for s, p, o in g:\n",
    "        if(p == URIRef(\"http://www.semanticweb.org/mohammadaima/ontologies/2023/2/untitled-ontology-11#isActorOf\") and o == URIRef(\"http://www.semanticweb.org/mohammadaima/ontologies/2023/2/untitled-ontology-11#\" + str(movie_name))):\n",
    "            actors.append(str(s).split('#')[-1])\n",
    "    # on récupère les schédules associés:\n",
    "    schedules = []\n",
    "    for s, p, o in g:\n",
    "        if(p == URIRef(\"http://www.semanticweb.org/mohammadaima/ontologies/2023/2/untitled-ontology-11#hasSchedule\") and s == URIRef(\"http://www.semanticweb.org/mohammadaima/ontologies/2023/2/untitled-ontology-11#\" + str(movie_name))):\n",
    "            schedules.append([o,'','',[]]) # 0: uri schedule, 1: realise_date, 2: end_realised_date, 3: liste cinemas associés\n",
    "    # on récupère les informations pour les schedules associés:      \n",
    "    for i in schedules:\n",
    "        for s, p, o in g:\n",
    "            # on récupère realeased_date\n",
    "            if(p == URIRef(\"http://www.semanticweb.org/mohammadaima/ontologies/2023/2/untitled-ontology-11#released_date\") and s == i[0]):\n",
    "                i[1] = o\n",
    "            # on récupèreend_realeased_date\n",
    "            if(p == URIRef(\"http://www.semanticweb.org/mohammadaima/ontologies/2023/2/untitled-ontology-11#end_released_date\") and s == i[0]):\n",
    "                i[2] = o\n",
    "            # on récupèretheater\n",
    "            if(p == URIRef(\"http://www.semanticweb.org/mohammadaima/ontologies/2023/2/untitled-ontology-11#isSchedule\") and o == i[0]):\n",
    "                i[3].append([s])\n",
    "        for z in i[3]:\n",
    "            for s, p, o in g:\n",
    "                if(p == URIRef(\"http://www.semanticweb.org/mohammadaima/ontologies/2023/2/untitled-ontology-11#location\") and s == z[0]):\n",
    "                    z.append(o)\n",
    "    #on récupère les schédules(nom + dates)et cinéma associé(uri de ce dernier)(tuples de taille 4)\n",
    "    print(f\"Movie: {movie_name}\")\n",
    "    print(f\"Year: {year}\")\n",
    "    print(f\"Country: {country}\")\n",
    "    print(f\"Genres: {', '.join(genres)}\")\n",
    "    print(f\"Actors: {', '.join(actors)}\")\n",
    "    print(\"Schedule:\")\n",
    "    for i in schedules:\n",
    "        print(f\"released date: {i[1]} end released date: {i[2]}\")\n",
    "        for z in i[3]: \n",
    "            print(f\"cinéma : {z[0].split('#')[-1]} - localisation: {z[1]}\")"
   ]
  },
  {
   "cell_type": "markdown",
   "id": "8efd755a",
   "metadata": {},
   "source": [
    "### 5. Displays all persons that are actors and directors. Do this using a rule that defines a new class ActorDirector. The rule file must be saved in the data folder."
   ]
  },
  {
   "cell_type": "code",
   "execution_count": 24,
   "id": "65cc3642",
   "metadata": {},
   "outputs": [
    {
     "name": "stdout",
     "output_type": "stream",
     "text": [
      "(rdflib.term.URIRef('http://www.semanticweb.org/mohammadaima/ontologies/2023/2/untitled-ontology-11#D.Frank'), rdflib.term.URIRef('http://www.w3.org/1999/02/22-rdf-syntax-ns#type'), rdflib.term.URIRef('http://www.semanticweb.org/mohammadaima/ontologies/2023/2/untitled-ontology-11#ActorDirector'))\n",
      "(rdflib.term.URIRef('http://www.semanticweb.org/mohammadaima/ontologies/2023/2/untitled-ontology-11#T.Uma'), rdflib.term.URIRef('http://www.w3.org/1999/02/22-rdf-syntax-ns#type'), rdflib.term.URIRef('http://www.semanticweb.org/mohammadaima/ontologies/2023/2/untitled-ontology-11#ActorDirector'))\n"
     ]
    }
   ],
   "source": [
    "# on Definie les namespaces\n",
    "ns = {\n",
    "    \"owl\": Namespace(\"http://www.w3.org/2002/07/owl#\"),\n",
    "    \"rdf\": Namespace(\"http://www.w3.org/1999/02/22-rdf-syntax-ns#\"),\n",
    "    \"rdfs\": Namespace(\"http://www.w3.org/2000/01/rdf-schema#\"),\n",
    "    \"xsd\" : Namespace(\"http://www.w3.org/2001/XMLSchema#\"),\n",
    "    \"this\": Namespace(\"http://www.semanticweb.org/mohammadaima/ontologies/2023/2/untitled-ontology-11#\")\n",
    "}\n",
    "\n",
    "# on charge la query du fichier la contenant\n",
    "with open(\"query2.rq\", \"r\") as f:\n",
    "    query = f.read()\n",
    "\n",
    "# on execute la query et on affiche les résultats\n",
    "results = g.query(query, initNs=ns)\n",
    "for result in results:\n",
    "    print(result)"
   ]
  },
  {
   "cell_type": "code",
   "execution_count": null,
   "id": "41c886a3",
   "metadata": {},
   "outputs": [],
   "source": []
  }
 ],
 "metadata": {
  "kernelspec": {
   "display_name": "Python 3 (ipykernel)",
   "language": "python",
   "name": "python3"
  },
  "language_info": {
   "codemirror_mode": {
    "name": "ipython",
    "version": 3
   },
   "file_extension": ".py",
   "mimetype": "text/x-python",
   "name": "python",
   "nbconvert_exporter": "python",
   "pygments_lexer": "ipython3",
   "version": "3.9.12"
  }
 },
 "nbformat": 4,
 "nbformat_minor": 5
}
